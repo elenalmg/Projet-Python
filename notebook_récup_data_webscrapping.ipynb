{
 "cells": [
  {
   "cell_type": "markdown",
   "metadata": {},
   "source": [
    "# Récupération des données historiques de l'indice VIX et de l'indice de performance du SP500 \n",
    "\n",
    "**Projet Python - 2A ENSAE** . \n",
    "\n",
    "Elena Loumagne / Jérémie Darracq \n",
    "\n"
   ]
  },
  {
   "cell_type": "markdown",
   "metadata": {},
   "source": [
    "## Introduction \n",
    "Ce notebook a été crée pour webscrapper les données de l'indice VIX et de l'indice de performance du SP500. Pour obtenir le jeu de données entier, nous allons utiliser la librairie **selenium** qui nous permettra de naviguer sur page HTML. \n"
   ]
  },
  {
   "cell_type": "markdown",
   "metadata": {},
   "source": [
    "## Packages utilisés "
   ]
  },
  {
   "cell_type": "code",
   "execution_count": 31,
   "metadata": {},
   "outputs": [],
   "source": [
    "#%pip install selenium "
   ]
  },
  {
   "cell_type": "code",
   "execution_count": 32,
   "metadata": {},
   "outputs": [],
   "source": [
    "import time \n",
    "import bs4\n",
    "import pandas\n",
    "from selenium import webdriver\n",
    "from webdriver_manager.chrome import ChromeDriverManager\n",
    "from selenium.webdriver.common.by import By\n",
    "from selenium.webdriver.support.ui import WebDriverWait \n",
    "from selenium.webdriver.support import expected_conditions as EC\n",
    "from datetime import datetime, timedelta\n",
    "\n"
   ]
  },
  {
   "cell_type": "markdown",
   "metadata": {},
   "source": [
    "## WEB SCRAPPING "
   ]
  },
  {
   "cell_type": "markdown",
   "metadata": {},
   "source": [
    "On crée une fonction de webscrapping utilisable sur les données du site [Investing.com](https://fr.investing.com/indices/) : \n",
    "\n",
    "- Étape 1 : on accède au site web en acceptant les cookies   \n",
    "- Étape 2 : on choisit la période sur laquelle on veut afficher les valeurs de l'indice du VIX     \n",
    "- Étape 3 : on stocke la page Html pour pouvoir ensuite extraire les données "
   ]
  },
  {
   "cell_type": "code",
   "execution_count": 33,
   "metadata": {},
   "outputs": [],
   "source": [
    "def web_scrapper(path,Xpath):\n",
    "    \"\"\"\n",
    "    Paramètres :\n",
    "    -------------\n",
    "\n",
    "    'path : str\n",
    "    Lien url de la page web \n",
    "    \n",
    "    'Xpath : str\n",
    "    Lien Xpath de l'objet date à modifier \n",
    "\n",
    "    Return :\n",
    "    ---------\n",
    "\n",
    "    'webpage : code HTML de la page webscrapée \n",
    "    \"\"\"\n",
    "\n",
    "    driver = webdriver.Chrome(ChromeDriverManager().install())\n",
    "    driver.get(path)\n",
    "    WebDriverWait(driver, 10).until(EC.element_to_be_clickable((By.ID, \"onetrust-accept-btn-handler\"))).click()\n",
    "\n",
    "    dropdown =driver.find_element(\"id\",'history-timeframe-selector')\n",
    "    dropdown.click() \n",
    "\n",
    "    # on cherche les différentes options présentes dans le dropdown et on clique sur celle qu'on veut\n",
    "    driver.find_element(\"id\",\"react-select-2-option-0\").click() # 0 -> journalier, 1 -> Hebdomadaire, 2 -> pour Mensuel \n",
    "\n",
    "    calendar=driver.find_element(By.CLASS_NAME,\"historical-data_history-date-picker-wrapper__dDOuq\")\n",
    "    calendar.click()\n",
    "\n",
    "    date_input = driver.find_element(By.XPATH,Xpath)\n",
    "    date_input.clear()\n",
    "    date_input.send_keys(\"3004-08-2005\") #date à laquelle on souhaite commencer (marche pas mais permet de donner tout l'historique pour l'instant)\n",
    "\n",
    "\n",
    "    validate=driver.find_element(By.CLASS_NAME,\"HistoryDatePicker_arrow-icon__NwxN4\")\n",
    "    validate.click()\n",
    "    time.sleep(6)\n",
    "\n",
    "    time.sleep(6)\n",
    "\n",
    "    webpage=driver.page_source # on stock le code html de la page où toutes le données sont chargées\n",
    "    driver.quit()  \n",
    "    print(\"Page Webscrappée\")\n",
    "\n",
    "    return webpage"
   ]
  },
  {
   "cell_type": "markdown",
   "metadata": {},
   "source": [
    "### Webscrapping de l'indice VIX "
   ]
  },
  {
   "cell_type": "code",
   "execution_count": 34,
   "metadata": {},
   "outputs": [
    {
     "name": "stderr",
     "output_type": "stream",
     "text": [
      "C:\\Users\\elelo\\AppData\\Local\\Temp/ipykernel_14272/3617288181.py:18: DeprecationWarning: executable_path has been deprecated, please pass in a Service object\n",
      "  driver = webdriver.Chrome(ChromeDriverManager().install())\n"
     ]
    },
    {
     "name": "stdout",
     "output_type": "stream",
     "text": [
      "Page Webscrappée\n"
     ]
    }
   ],
   "source": [
    "path_VIX= 'https://fr.investing.com/indices/volatility-s-p-500-historical-data'\n",
    "Xpath_VIX = '//*[@id=\"__next\"]/div/div/div/div[2]/main/div/div[5]/div/div/div[2]/div[2]/div[2]/div[2]/div[1]/div/div[1]/input'\n",
    "\n",
    "web_page_VIX = web_scrapper(path_VIX,Xpath_VIX)\n"
   ]
  },
  {
   "cell_type": "markdown",
   "metadata": {},
   "source": [
    "### Webscrapping de l'indice de performance du SP500"
   ]
  },
  {
   "cell_type": "code",
   "execution_count": 35,
   "metadata": {},
   "outputs": [
    {
     "name": "stderr",
     "output_type": "stream",
     "text": [
      "C:\\Users\\elelo\\AppData\\Local\\Temp/ipykernel_14272/3617288181.py:18: DeprecationWarning: executable_path has been deprecated, please pass in a Service object\n",
      "  driver = webdriver.Chrome(ChromeDriverManager().install())\n"
     ]
    },
    {
     "name": "stdout",
     "output_type": "stream",
     "text": [
      "Page Webscrappée\n"
     ]
    }
   ],
   "source": [
    "path_SP500 = 'https://fr.investing.com/indices/us-spx-500-historical-data'\n",
    "Xpath_SP500 = '//*[@id=\"__next\"]/div/div/div/div[2]/main/div/div[5]/div/div/div[2]/div[2]/div[2]/div[2]/div[1]/div/div[1]/input'\n",
    "\n",
    "web_page_SP500 = web_scrapper(path_SP500,Xpath_SP500)\n"
   ]
  },
  {
   "cell_type": "markdown",
   "metadata": {},
   "source": [
    "## Passage de l'HTML au Dataframe \n",
    "\n",
    "\n",
    "Maintenant que nous avons le code HTML de toutes les données, nous allons décortiquer la page grâce à la librairie BeautifulSoup."
   ]
  },
  {
   "cell_type": "markdown",
   "metadata": {},
   "source": [
    "On crée une fonction pour passer du code source Html à un Dataframe. Cette fonction récupère les valeurs de l'indice affichées dans le tableau des données historiques."
   ]
  },
  {
   "cell_type": "code",
   "execution_count": 36,
   "metadata": {},
   "outputs": [],
   "source": [
    "def Html_to_df(web_page):\n",
    "    \"\"\"\n",
    "    'web_page : html code \n",
    "     code html de la page webscrappée\n",
    "    \"\"\"\n",
    "    # utiliser le package BeautifulSoup qui \"comprend\" les balises \n",
    "    page = bs4.BeautifulSoup(web_page, \"lxml\")\n",
    "\n",
    "    # on identifie le tableau des indices vix et SP500 : c'est le premier qui a cette classe \"datatable_table__D_jso datatable_table--border__B_zW0 datatable_table--mobile-basic__W2ilt datatable_table--freeze-column__7YoIE\"\n",
    "    tableau_indice = page.find('table', {'class' : 'datatable_table__D_jso datatable_table--border__B_zW0 datatable_table--mobile-basic__W2ilt datatable_table--freeze-column__7YoIE'})\n",
    "    table_body = tableau_indice.find('tbody')\n",
    "\n",
    "    # on recherche toutes les lignes du tableau avec la balise \"tr\"\n",
    "    rows = table_body.find_all('tr')\n",
    "\n",
    "    # on obtient une liste où chaque élément est une des lignes du tableau\n",
    "    cols = rows[0].find_all('td')\n",
    "    dico_indice = dict()\n",
    "    for row in rows:\n",
    "        cols = row.find_all('td')\n",
    "        cols = [ele.text.strip() for ele in cols]\n",
    "        if len(cols) > 0 : \n",
    "            dico_indice[cols[0]] = cols[1:]\n",
    "    \n",
    "    # On transforme le dictionnaire en DataFrame  \n",
    "    data_indice = pandas.DataFrame.from_dict(dico_indice,orient='index')        \n",
    "    return data_indice \n",
    "\n",
    "\n",
    "    "
   ]
  },
  {
   "cell_type": "markdown",
   "metadata": {},
   "source": [
    "### DataFrame de l'indice du VIX"
   ]
  },
  {
   "cell_type": "code",
   "execution_count": 94,
   "metadata": {},
   "outputs": [],
   "source": [
    "data_vix = Html_to_df(web_page_VIX)"
   ]
  },
  {
   "cell_type": "markdown",
   "metadata": {},
   "source": [
    "### DataFrame de l'indice de performance du SP500"
   ]
  },
  {
   "cell_type": "code",
   "execution_count": 95,
   "metadata": {},
   "outputs": [],
   "source": [
    "data_SP500 = Html_to_df(web_page_SP500)"
   ]
  },
  {
   "cell_type": "markdown",
   "metadata": {},
   "source": [
    "## Modification des DataFrames"
   ]
  },
  {
   "cell_type": "code",
   "execution_count": 96,
   "metadata": {},
   "outputs": [],
   "source": [
    "def replace_comma_to_float(text):\n",
    "    return float(text.replace(',','.'))\n",
    "    \n",
    "def replace_point(text):\n",
    "    return text.replace('.','')\n",
    "\n",
    "\n",
    "# Fonction principale qui nettoie le dataframe \n",
    "\n",
    "def clear_df(data,indice):\n",
    "    ## On renomme les colonnes du dataframe\n",
    "    data = data.rename(columns={0:\"dernier_\"+indice,1:'ouverture',2:'higher',3:'lower',4:'volatilité',5:'variation'})\n",
    "    data = data.drop(columns=['volatilité'])\n",
    "    \n",
    "    ## Pour pouvoir utiliser nos données, il faut transformer les indices en *float*\n",
    "    if indice=='SP500':\n",
    "        data[\"dernier_\"+indice]=data[\"dernier_\"+indice].apply(replace_point)\n",
    "        data[\"ouverture\"]=data[\"ouverture\"].apply(replace_point)\n",
    "        data[\"higher\"]=data[\"higher\"].apply(replace_point)\n",
    "        data[\"lower\"]=data[\"lower\"].apply(replace_point)\n",
    "\n",
    "    data[\"dernier_\"+indice]=data[\"dernier_\"+indice].apply(replace_comma_to_float)\n",
    "    data[\"ouverture\"]=data[\"ouverture\"].apply(replace_comma_to_float)\n",
    "    data[\"higher\"]=data[\"higher\"].apply(replace_comma_to_float)\n",
    "    data[\"lower\"]=data[\"lower\"].apply(replace_comma_to_float)\n",
    "    \n",
    "    ## On modifie le format de la date \n",
    "    data[\"date\"]=data.index\n",
    "    data.reset_index(drop=True, inplace=True)\n",
    "    data[\"date\"]=data['date'].apply(lambda x : datetime.strptime(x, '%d/%m/%Y'))\n",
    "\n",
    "\n",
    "    return data\n",
    "\n"
   ]
  },
  {
   "cell_type": "code",
   "execution_count": 97,
   "metadata": {},
   "outputs": [],
   "source": [
    "data_vix = clear_df(data_vix,'VIX')\n",
    "data_sp500 = clear_df(data_SP500,'SP500')"
   ]
  },
  {
   "cell_type": "code",
   "execution_count": 99,
   "metadata": {},
   "outputs": [],
   "source": [
    "data_sp500[\"date\"]=data_sp500[\"date\"].astype(str)\n",
    "data_vix[\"date\"]=data_vix[\"date\"].astype(str)"
   ]
  },
  {
   "cell_type": "markdown",
   "metadata": {},
   "source": [
    "### Ajout des valeurs pour les weekends "
   ]
  },
  {
   "cell_type": "code",
   "execution_count": 100,
   "metadata": {},
   "outputs": [],
   "source": [
    "def time_travel_day(now, day, dtformat):\n",
    "        now = datetime.strptime(now, dtformat)\n",
    "        back_in_time = now - timedelta(days=day)\n",
    "        return back_in_time.strftime(dtformat)\n",
    "\n",
    "def append_data(dernier,indice,ouverture,higher,lower,variation,date):\n",
    "\n",
    "        data ={\"dernier_\"+indice:dernier,\n",
    "        \"ouverture\":ouverture,\n",
    "        \"higher\":higher,\n",
    "        \"lower\":lower,\n",
    "        \"variation\":variation,\n",
    "        \"date\":date                \n",
    "        }\n",
    "        return data\n",
    "\n",
    "\n",
    "def ajout_weekend(date_lundi,indice,df):\n",
    "\n",
    "    \"\"\"\"\n",
    "    Fonction qui permet d'ajouter les valeurs de l'indice pour le week end, l'ouverture de leur marché étant la clôture du vendredi en question et leur clôture de marché étant\n",
    "    l'ouverture du lundi.\n",
    "\n",
    "    \"\"\"    \n",
    "    \n",
    "    dtformat = '%Y-%m-%d'  \n",
    "\n",
    "    samedi=time_travel_day(date_lundi,2, dtformat)\n",
    "    dimanche=time_travel_day(date_lundi,1,dtformat)\n",
    "    vendredi=time_travel_day(date_lundi,3,dtformat)\n",
    "\n",
    "    value_vendredi=df[df[\"date\"]==vendredi]\n",
    "    value_lundi=df[df[\"date\"]==date_lundi]\n",
    "    \n",
    "    \n",
    "    vendredi_close = float(value_vendredi[\"dernier_\"+indice])\n",
    "    monday_open = float(value_lundi[\"ouverture\"])\n",
    "\n",
    "    percent_change=100*(1-(vendredi_close/monday_open))\n",
    "    percent_change=round(percent_change,2)\n",
    "    str_percent_change=str(percent_change)+\"%\"\n",
    "\n",
    "    data_samedi=append_data(monday_open,indice,vendredi_close,max(vendredi_close,monday_open),min(vendredi_close,monday_open),str_percent_change,samedi)\n",
    "    data_dimanche=append_data(monday_open,indice,vendredi_close,max(vendredi_close,monday_open),min(vendredi_close,monday_open),str_percent_change,dimanche)\n",
    "    \n",
    "    df=df.append(data_samedi,ignore_index=True)\n",
    "    df=df.append(data_dimanche,ignore_index=True)\n",
    "\n",
    "    return df\n",
    "\n"
   ]
  },
  {
   "cell_type": "code",
   "execution_count": 101,
   "metadata": {},
   "outputs": [
    {
     "name": "stdout",
     "output_type": "stream",
     "text": [
      "0\n",
      "5\n",
      "10\n",
      "15\n",
      "20\n",
      "25\n",
      "30\n",
      "35\n",
      "40\n",
      "45\n",
      "50\n",
      "55\n",
      "60\n"
     ]
    }
   ],
   "source": [
    "# on rajoute les valeurs des week end sur les deux derniers mois\n",
    "dtformat = '%Y-%m-%d' \n",
    "\n",
    "for i in range(0,65): \n",
    "    if time_travel_day(data_vix.loc[i,\"date\"],1,dtformat)!=data_vix.loc[i+1,\"date\"]:\n",
    "        data_vix=ajout_weekend(data_vix.loc[i,\"date\"],\"VIX\",data_vix)\n",
    "        \n",
    "\n",
    "data_vix.sort_values(\"date\",ascending=False,inplace=True)\n",
    "data_vix=data_vix.reset_index(drop=True)\n",
    "\n",
    "\n",
    "# on rajoute les valeurs des week end sur les deux derniers mois\n",
    "\n",
    "for i in range(0,65): \n",
    "    if time_travel_day(data_sp500.loc[i,\"date\"],1,dtformat)!=data_sp500.loc[i+1,\"date\"]:\n",
    "        data_sp500=ajout_weekend(data_sp500.loc[i,\"date\"],\"SP500\",data_sp500)\n",
    "\n",
    "data_sp500.sort_values(\"date\",ascending=False,inplace=True)\n",
    "data_sp500=data_sp500.reset_index(drop=True)"
   ]
  },
  {
   "cell_type": "markdown",
   "metadata": {},
   "source": [
    "### CSV final indice du VIX "
   ]
  },
  {
   "cell_type": "code",
   "execution_count": 102,
   "metadata": {},
   "outputs": [
    {
     "data": {
      "text/html": [
       "<div>\n",
       "<style scoped>\n",
       "    .dataframe tbody tr th:only-of-type {\n",
       "        vertical-align: middle;\n",
       "    }\n",
       "\n",
       "    .dataframe tbody tr th {\n",
       "        vertical-align: top;\n",
       "    }\n",
       "\n",
       "    .dataframe thead th {\n",
       "        text-align: right;\n",
       "    }\n",
       "</style>\n",
       "<table border=\"1\" class=\"dataframe\">\n",
       "  <thead>\n",
       "    <tr style=\"text-align: right;\">\n",
       "      <th></th>\n",
       "      <th>dernier_VIX</th>\n",
       "      <th>ouverture</th>\n",
       "      <th>higher</th>\n",
       "      <th>lower</th>\n",
       "      <th>variation</th>\n",
       "      <th>date</th>\n",
       "    </tr>\n",
       "  </thead>\n",
       "  <tbody>\n",
       "    <tr>\n",
       "      <th>0</th>\n",
       "      <td>24.98</td>\n",
       "      <td>24.40</td>\n",
       "      <td>25.05</td>\n",
       "      <td>24.18</td>\n",
       "      <td>+9.42%</td>\n",
       "      <td>2022-12-12</td>\n",
       "    </tr>\n",
       "    <tr>\n",
       "      <th>1</th>\n",
       "      <td>24.40</td>\n",
       "      <td>22.83</td>\n",
       "      <td>24.40</td>\n",
       "      <td>22.83</td>\n",
       "      <td>6.43%</td>\n",
       "      <td>2022-12-11</td>\n",
       "    </tr>\n",
       "    <tr>\n",
       "      <th>2</th>\n",
       "      <td>24.40</td>\n",
       "      <td>22.83</td>\n",
       "      <td>24.40</td>\n",
       "      <td>22.83</td>\n",
       "      <td>6.43%</td>\n",
       "      <td>2022-12-10</td>\n",
       "    </tr>\n",
       "    <tr>\n",
       "      <th>3</th>\n",
       "      <td>22.83</td>\n",
       "      <td>22.55</td>\n",
       "      <td>23.21</td>\n",
       "      <td>22.18</td>\n",
       "      <td>+2.42%</td>\n",
       "      <td>2022-12-09</td>\n",
       "    </tr>\n",
       "    <tr>\n",
       "      <th>4</th>\n",
       "      <td>22.29</td>\n",
       "      <td>22.81</td>\n",
       "      <td>23.28</td>\n",
       "      <td>22.06</td>\n",
       "      <td>-1.72%</td>\n",
       "      <td>2022-12-08</td>\n",
       "    </tr>\n",
       "  </tbody>\n",
       "</table>\n",
       "</div>"
      ],
      "text/plain": [
       "   dernier_VIX  ouverture  higher  lower variation        date\n",
       "0        24.98      24.40   25.05  24.18    +9.42%  2022-12-12\n",
       "1        24.40      22.83   24.40  22.83     6.43%  2022-12-11\n",
       "2        24.40      22.83   24.40  22.83     6.43%  2022-12-10\n",
       "3        22.83      22.55   23.21  22.18    +2.42%  2022-12-09\n",
       "4        22.29      22.81   23.28  22.06    -1.72%  2022-12-08"
      ]
     },
     "execution_count": 102,
     "metadata": {},
     "output_type": "execute_result"
    }
   ],
   "source": [
    "data_vix.to_csv(\"Data/data_vix.csv\",index=False)\n",
    "data_vix.head()"
   ]
  },
  {
   "cell_type": "markdown",
   "metadata": {},
   "source": [
    "### CSV final indice de performance du SP500"
   ]
  },
  {
   "cell_type": "code",
   "execution_count": 103,
   "metadata": {},
   "outputs": [
    {
     "data": {
      "text/html": [
       "<div>\n",
       "<style scoped>\n",
       "    .dataframe tbody tr th:only-of-type {\n",
       "        vertical-align: middle;\n",
       "    }\n",
       "\n",
       "    .dataframe tbody tr th {\n",
       "        vertical-align: top;\n",
       "    }\n",
       "\n",
       "    .dataframe thead th {\n",
       "        text-align: right;\n",
       "    }\n",
       "</style>\n",
       "<table border=\"1\" class=\"dataframe\">\n",
       "  <thead>\n",
       "    <tr style=\"text-align: right;\">\n",
       "      <th></th>\n",
       "      <th>dernier_SP500</th>\n",
       "      <th>ouverture</th>\n",
       "      <th>higher</th>\n",
       "      <th>lower</th>\n",
       "      <th>variation</th>\n",
       "      <th>date</th>\n",
       "    </tr>\n",
       "  </thead>\n",
       "  <tbody>\n",
       "    <tr>\n",
       "      <th>0</th>\n",
       "      <td>3980.20</td>\n",
       "      <td>3943.00</td>\n",
       "      <td>3987.90</td>\n",
       "      <td>3936.50</td>\n",
       "      <td>+1.16%</td>\n",
       "      <td>2022-12-12</td>\n",
       "    </tr>\n",
       "    <tr>\n",
       "      <th>1</th>\n",
       "      <td>3943.00</td>\n",
       "      <td>3934.38</td>\n",
       "      <td>3943.00</td>\n",
       "      <td>3934.38</td>\n",
       "      <td>0.22%</td>\n",
       "      <td>2022-12-11</td>\n",
       "    </tr>\n",
       "    <tr>\n",
       "      <th>2</th>\n",
       "      <td>3943.00</td>\n",
       "      <td>3934.38</td>\n",
       "      <td>3943.00</td>\n",
       "      <td>3934.38</td>\n",
       "      <td>0.22%</td>\n",
       "      <td>2022-12-10</td>\n",
       "    </tr>\n",
       "    <tr>\n",
       "      <th>3</th>\n",
       "      <td>3934.38</td>\n",
       "      <td>3954.17</td>\n",
       "      <td>3977.02</td>\n",
       "      <td>3933.04</td>\n",
       "      <td>-0.73%</td>\n",
       "      <td>2022-12-09</td>\n",
       "    </tr>\n",
       "    <tr>\n",
       "      <th>4</th>\n",
       "      <td>3963.51</td>\n",
       "      <td>3947.79</td>\n",
       "      <td>3974.19</td>\n",
       "      <td>3935.83</td>\n",
       "      <td>+0.75%</td>\n",
       "      <td>2022-12-08</td>\n",
       "    </tr>\n",
       "  </tbody>\n",
       "</table>\n",
       "</div>"
      ],
      "text/plain": [
       "   dernier_SP500  ouverture   higher    lower variation        date\n",
       "0        3980.20    3943.00  3987.90  3936.50    +1.16%  2022-12-12\n",
       "1        3943.00    3934.38  3943.00  3934.38     0.22%  2022-12-11\n",
       "2        3943.00    3934.38  3943.00  3934.38     0.22%  2022-12-10\n",
       "3        3934.38    3954.17  3977.02  3933.04    -0.73%  2022-12-09\n",
       "4        3963.51    3947.79  3974.19  3935.83    +0.75%  2022-12-08"
      ]
     },
     "execution_count": 103,
     "metadata": {},
     "output_type": "execute_result"
    }
   ],
   "source": [
    "data_sp500.to_csv(\"Data/data_sp500.csv\",index=False)\n",
    "data_sp500.head()"
   ]
  }
 ],
 "metadata": {
  "kernelspec": {
   "display_name": "Python 3.10.0 64-bit",
   "language": "python",
   "name": "python3"
  },
  "language_info": {
   "codemirror_mode": {
    "name": "ipython",
    "version": 3
   },
   "file_extension": ".py",
   "mimetype": "text/x-python",
   "name": "python",
   "nbconvert_exporter": "python",
   "pygments_lexer": "ipython3",
   "version": "3.10.0"
  },
  "orig_nbformat": 4,
  "vscode": {
   "interpreter": {
    "hash": "809c05bf197248844069ca010303a407c57ade7aa07b41750c0b87641ddc144b"
   }
  }
 },
 "nbformat": 4,
 "nbformat_minor": 2
}
