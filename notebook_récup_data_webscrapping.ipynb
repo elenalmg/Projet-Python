{
 "cells": [
  {
   "cell_type": "markdown",
   "metadata": {},
   "source": [
    "# Récupération des données historiques de l'indice VIX et de l'indice de performance du SP500 \n",
    "\n",
    "**Projet Python - 2A ENSAE** . \n",
    "\n",
    "Elena Loumagne / Jérémie Darracq \n",
    "\n"
   ]
  },
  {
   "cell_type": "markdown",
   "metadata": {},
   "source": [
    "## Introduction \n",
    "Ce notebook a été crée pour webscrapper les données de l'indice VIX et de l'indice de performance du SP500. Pour obtenir le jeu de données entier, nous allons utiliser la librairie **selenium** qui nous permettra de naviguer sur page HTML. \n"
   ]
  },
  {
   "cell_type": "markdown",
   "metadata": {},
   "source": [
    "## Packages utilisés "
   ]
  },
  {
   "cell_type": "code",
   "execution_count": 4,
   "metadata": {},
   "outputs": [],
   "source": [
    "#%pip install selenium "
   ]
  },
  {
   "cell_type": "code",
   "execution_count": 1,
   "metadata": {},
   "outputs": [],
   "source": [
    "import time \n",
    "import bs4\n",
    "import pandas\n",
    "from selenium import webdriver\n",
    "from webdriver_manager.chrome import ChromeDriverManager\n",
    "from selenium.webdriver.common.by import By\n",
    "from selenium.webdriver.support.ui import WebDriverWait \n",
    "from selenium.webdriver.support import expected_conditions as EC\n",
    "from datetime import datetime\n"
   ]
  },
  {
   "cell_type": "markdown",
   "metadata": {},
   "source": [
    "## WEB SCRAPPING "
   ]
  },
  {
   "cell_type": "markdown",
   "metadata": {},
   "source": [
    "On crée une fonction de webscrapping utilisable sur les données du site [Investing.com](https://fr.investing.com/indices/) : \n",
    "\n",
    "- Étape 1 : on accède au site web en acceptant les cookies   \n",
    "- Étape 2 : on choisit la période sur laquelle on veut afficher les valeurs de l'indice du VIX     \n",
    "- Étape 3 : on stocke la page Html pour pouvoir ensuite extraire les données "
   ]
  },
  {
   "cell_type": "code",
   "execution_count": 2,
   "metadata": {},
   "outputs": [],
   "source": [
    "def web_scrapper(path,Xpath):\n",
    "    \"\"\"\n",
    "    Paramètres :\n",
    "    -------------\n",
    "\n",
    "    'path : str\n",
    "    Lien url de la page web \n",
    "    \n",
    "    'Xpath : str\n",
    "    Lien Xpath de l'objet date à modifier \n",
    "\n",
    "    Return :\n",
    "    ---------\n",
    "\n",
    "    'webpage : code HTML de la page webscrapée \n",
    "    \"\"\"\n",
    "\n",
    "    driver = webdriver.Chrome(ChromeDriverManager().install())\n",
    "    driver.get(path)\n",
    "    WebDriverWait(driver, 10).until(EC.element_to_be_clickable((By.ID, \"onetrust-accept-btn-handler\"))).click()\n",
    "\n",
    "    dropdown =driver.find_element(\"id\",'history-timeframe-selector')\n",
    "    dropdown.click() \n",
    "\n",
    "    # on cherche les différentes options présentes dans le dropdown et on clique sur celle qu'on veut\n",
    "    driver.find_element(\"id\",\"react-select-2-option-0\").click() # 0 -> journalier, 1 -> Hebdomadaire, 2 -> pour Mensuel \n",
    "\n",
    "    calendar=driver.find_element(By.CLASS_NAME,\"historical-data_history-date-picker-wrapper__dDOuq\")\n",
    "    calendar.click()\n",
    "\n",
    "    date_input = driver.find_element(By.XPATH,Xpath)\n",
    "    date_input.clear()\n",
    "    date_input.send_keys(\"3004-08-2005\") #date à laquelle on souhaite commencer (marche pas mais permet de donner tout l'historique pour l'instant)\n",
    "\n",
    "\n",
    "    validate=driver.find_element(By.CLASS_NAME,\"HistoryDatePicker_arrow-icon__NwxN4\")\n",
    "    validate.click()\n",
    "    time.sleep(6)\n",
    "\n",
    "    time.sleep(6)\n",
    "\n",
    "    webpage=driver.page_source # on stock le code html de la page où toutes le données sont chargées\n",
    "    driver.quit()  \n",
    "    print(\"Page Webscrappée\")\n",
    "\n",
    "    return webpage"
   ]
  },
  {
   "cell_type": "markdown",
   "metadata": {},
   "source": [
    "### Webscrapping de l'indice VIX "
   ]
  },
  {
   "cell_type": "code",
   "execution_count": 38,
   "metadata": {},
   "outputs": [
    {
     "name": "stderr",
     "output_type": "stream",
     "text": [
      "<ipython-input-35-61410f1f3154>:18: DeprecationWarning: executable_path has been deprecated, please pass in a Service object\n",
      "  driver = webdriver.Chrome(ChromeDriverManager().install())\n"
     ]
    },
    {
     "name": "stdout",
     "output_type": "stream",
     "text": [
      "Page Webscrappée\n"
     ]
    }
   ],
   "source": [
    "path_VIX= 'https://fr.investing.com/indices/volatility-s-p-500-historical-data'\n",
    "Xpath_VIX = '//*[@id=\"__next\"]/div/div/div/div[2]/main/div/div[5]/div/div/div[2]/div[2]/div[2]/div[2]/div[1]/div/div[1]/input'\n",
    "\n",
    "web_page_VIX = web_scrapper(path_VIX,Xpath_VIX)\n"
   ]
  },
  {
   "cell_type": "markdown",
   "metadata": {},
   "source": [
    "### Webscrapping de l'indice de performance du SP500"
   ]
  },
  {
   "cell_type": "code",
   "execution_count": 3,
   "metadata": {},
   "outputs": [
    {
     "name": "stderr",
     "output_type": "stream",
     "text": [
      "[WDM] - Downloading: 100%|██████████| 6.58M/6.58M [00:40<00:00, 172kB/s] \n",
      "C:\\Users\\elelo\\AppData\\Local\\Temp/ipykernel_8280/3617288181.py:18: DeprecationWarning: executable_path has been deprecated, please pass in a Service object\n",
      "  driver = webdriver.Chrome(ChromeDriverManager().install())\n"
     ]
    },
    {
     "name": "stdout",
     "output_type": "stream",
     "text": [
      "Page Webscrappée\n"
     ]
    }
   ],
   "source": [
    "path_SP500 = 'https://fr.investing.com/indices/us-spx-500-historical-data'\n",
    "Xpath_SP500 = '//*[@id=\"__next\"]/div/div/div/div[2]/main/div/div[5]/div/div/div[2]/div[2]/div[2]/div[2]/div[1]/div/div[1]/input'\n",
    "\n",
    "web_page_SP500 = web_scrapper(path_SP500,Xpath_SP500)\n"
   ]
  },
  {
   "cell_type": "markdown",
   "metadata": {},
   "source": [
    "## Passage de l'HTML au Dataframe \n",
    "\n",
    "\n",
    "Maintenant que nous avons le code HTML de toutes les données, nous allons décortiquer la page grâce à la librairie BeautifulSoup."
   ]
  },
  {
   "cell_type": "markdown",
   "metadata": {},
   "source": [
    "On crée une fonction pour passer du code source Html à un Dataframe. Cette fonction récupère les valeurs de l'indice affichées dans le tableau des données historiques."
   ]
  },
  {
   "cell_type": "code",
   "execution_count": 4,
   "metadata": {},
   "outputs": [],
   "source": [
    "def Html_to_df(web_page):\n",
    "    \"\"\"\n",
    "    'web_page : html code \n",
    "     code html de la page webscrappée\n",
    "    \"\"\"\n",
    "    # utiliser le package BeautifulSoup qui \"comprend\" les balises \n",
    "    page = bs4.BeautifulSoup(web_page, \"lxml\")\n",
    "\n",
    "    # on identifie le tableau des indices vix et SP500 : c'est le premier qui a cette classe \"datatable_table__D_jso datatable_table--border__B_zW0 datatable_table--mobile-basic__W2ilt datatable_table--freeze-column__7YoIE\"\n",
    "    tableau_indice = page.find('table', {'class' : 'datatable_table__D_jso datatable_table--border__B_zW0 datatable_table--mobile-basic__W2ilt datatable_table--freeze-column__7YoIE'})\n",
    "    table_body = tableau_indice.find('tbody')\n",
    "\n",
    "    # on recherche toutes les lignes du tableau avec la balise \"tr\"\n",
    "    rows = table_body.find_all('tr')\n",
    "\n",
    "    # on obtient une liste où chaque élément est une des lignes du tableau\n",
    "    cols = rows[0].find_all('td')\n",
    "    dico_indice = dict()\n",
    "    for row in rows:\n",
    "        cols = row.find_all('td')\n",
    "        cols = [ele.text.strip() for ele in cols]\n",
    "        if len(cols) > 0 : \n",
    "            dico_indice[cols[0]] = cols[1:]\n",
    "    \n",
    "    # On transforme le dictionnaire en DataFrame  \n",
    "    data_indice = pandas.DataFrame.from_dict(dico_indice,orient='index')        \n",
    "    return data_indice \n",
    "\n",
    "\n",
    "    "
   ]
  },
  {
   "cell_type": "markdown",
   "metadata": {},
   "source": [
    "### DataFrame de l'indice du VIX"
   ]
  },
  {
   "cell_type": "code",
   "execution_count": 58,
   "metadata": {},
   "outputs": [],
   "source": [
    "data_vix = Html_to_df(web_page_VIX)"
   ]
  },
  {
   "cell_type": "markdown",
   "metadata": {},
   "source": [
    "### DataFrame de l'indice de performance du SP500"
   ]
  },
  {
   "cell_type": "code",
   "execution_count": 5,
   "metadata": {},
   "outputs": [],
   "source": [
    "data_SP500 = Html_to_df(web_page_SP500)"
   ]
  },
  {
   "cell_type": "markdown",
   "metadata": {},
   "source": [
    "## Modification des DataFrames"
   ]
  },
  {
   "cell_type": "code",
   "execution_count": 6,
   "metadata": {},
   "outputs": [],
   "source": [
    "def replace_comma_to_float(text):\n",
    "    return float(text.replace(',','.'))\n",
    "    \n",
    "def replace_point(text):\n",
    "    return text.replace('.','')\n",
    "\n",
    "\n",
    "# Fonction principale qui nettoie le dataframe \n",
    "\n",
    "def clear_df(data,indice):\n",
    "    ## On renomme les colonnes du dataframe\n",
    "    data = data.rename(columns={0:\"dernier_\"+indice,1:'ouverture',2:'higher',3:'lower',4:'volatilité',5:'variation'})\n",
    "    data = data.drop(columns=['volatilité'])\n",
    "    \n",
    "    ## Pour pouvoir utiliser nos données, il faut transformer les indices en *float*\n",
    "    if indice=='SP500':\n",
    "        data[\"dernier_\"+indice]=data[\"dernier_\"+indice].apply(replace_point)\n",
    "        data[\"ouverture\"]=data[\"ouverture\"].apply(replace_point)\n",
    "        data[\"higher\"]=data[\"higher\"].apply(replace_point)\n",
    "        data[\"lower\"]=data[\"lower\"].apply(replace_point)\n",
    "\n",
    "    data[\"dernier_\"+indice]=data[\"dernier_\"+indice].apply(replace_comma_to_float)\n",
    "    data[\"ouverture\"]=data[\"ouverture\"].apply(replace_comma_to_float)\n",
    "    data[\"higher\"]=data[\"higher\"].apply(replace_comma_to_float)\n",
    "    data[\"lower\"]=data[\"lower\"].apply(replace_comma_to_float)\n",
    "    \n",
    "    ## On modifie le format de la date \n",
    "    data[\"date\"]=data.index\n",
    "    data.reset_index(drop=True, inplace=True)\n",
    "    data[\"date\"]=data['date'].apply(lambda x : datetime.strptime(x, '%d/%m/%Y'))\n",
    "    return data\n",
    "\n"
   ]
  },
  {
   "cell_type": "markdown",
   "metadata": {},
   "source": [
    "### CSV final indice du VIX "
   ]
  },
  {
   "cell_type": "code",
   "execution_count": 61,
   "metadata": {},
   "outputs": [
    {
     "data": {
      "text/html": [
       "<div>\n",
       "<style scoped>\n",
       "    .dataframe tbody tr th:only-of-type {\n",
       "        vertical-align: middle;\n",
       "    }\n",
       "\n",
       "    .dataframe tbody tr th {\n",
       "        vertical-align: top;\n",
       "    }\n",
       "\n",
       "    .dataframe thead th {\n",
       "        text-align: right;\n",
       "    }\n",
       "</style>\n",
       "<table border=\"1\" class=\"dataframe\">\n",
       "  <thead>\n",
       "    <tr style=\"text-align: right;\">\n",
       "      <th></th>\n",
       "      <th>dernier_VIX</th>\n",
       "      <th>ouverture</th>\n",
       "      <th>higher</th>\n",
       "      <th>lower</th>\n",
       "      <th>variation</th>\n",
       "      <th>date</th>\n",
       "    </tr>\n",
       "  </thead>\n",
       "  <tbody>\n",
       "    <tr>\n",
       "      <th>0</th>\n",
       "      <td>22.83</td>\n",
       "      <td>22.68</td>\n",
       "      <td>22.89</td>\n",
       "      <td>22.68</td>\n",
       "      <td>+0.66%</td>\n",
       "      <td>2022-12-08</td>\n",
       "    </tr>\n",
       "    <tr>\n",
       "      <th>1</th>\n",
       "      <td>22.68</td>\n",
       "      <td>22.32</td>\n",
       "      <td>23.01</td>\n",
       "      <td>22.18</td>\n",
       "      <td>+2.30%</td>\n",
       "      <td>2022-12-07</td>\n",
       "    </tr>\n",
       "    <tr>\n",
       "      <th>2</th>\n",
       "      <td>22.17</td>\n",
       "      <td>20.69</td>\n",
       "      <td>22.60</td>\n",
       "      <td>20.38</td>\n",
       "      <td>+6.84%</td>\n",
       "      <td>2022-12-06</td>\n",
       "    </tr>\n",
       "    <tr>\n",
       "      <th>3</th>\n",
       "      <td>20.75</td>\n",
       "      <td>20.30</td>\n",
       "      <td>21.29</td>\n",
       "      <td>19.78</td>\n",
       "      <td>+8.87%</td>\n",
       "      <td>2022-12-05</td>\n",
       "    </tr>\n",
       "    <tr>\n",
       "      <th>4</th>\n",
       "      <td>19.06</td>\n",
       "      <td>20.42</td>\n",
       "      <td>20.96</td>\n",
       "      <td>18.95</td>\n",
       "      <td>-3.93%</td>\n",
       "      <td>2022-12-02</td>\n",
       "    </tr>\n",
       "  </tbody>\n",
       "</table>\n",
       "</div>"
      ],
      "text/plain": [
       "   dernier_VIX  ouverture  higher  lower variation       date\n",
       "0        22.83      22.68   22.89  22.68    +0.66% 2022-12-08\n",
       "1        22.68      22.32   23.01  22.18    +2.30% 2022-12-07\n",
       "2        22.17      20.69   22.60  20.38    +6.84% 2022-12-06\n",
       "3        20.75      20.30   21.29  19.78    +8.87% 2022-12-05\n",
       "4        19.06      20.42   20.96  18.95    -3.93% 2022-12-02"
      ]
     },
     "execution_count": 61,
     "metadata": {},
     "output_type": "execute_result"
    }
   ],
   "source": [
    "data_vix = clear_df(data_vix,'VIX')\n",
    "data_vix.to_csv(\"Data/data_vix.csv\",index=False)\n",
    "data_vix.head()"
   ]
  },
  {
   "cell_type": "markdown",
   "metadata": {},
   "source": [
    "### CSV final indice de performance du SP500"
   ]
  },
  {
   "cell_type": "code",
   "execution_count": 7,
   "metadata": {},
   "outputs": [
    {
     "data": {
      "text/html": [
       "<div>\n",
       "<style scoped>\n",
       "    .dataframe tbody tr th:only-of-type {\n",
       "        vertical-align: middle;\n",
       "    }\n",
       "\n",
       "    .dataframe tbody tr th {\n",
       "        vertical-align: top;\n",
       "    }\n",
       "\n",
       "    .dataframe thead th {\n",
       "        text-align: right;\n",
       "    }\n",
       "</style>\n",
       "<table border=\"1\" class=\"dataframe\">\n",
       "  <thead>\n",
       "    <tr style=\"text-align: right;\">\n",
       "      <th></th>\n",
       "      <th>dernier_SP500</th>\n",
       "      <th>ouverture</th>\n",
       "      <th>higher</th>\n",
       "      <th>lower</th>\n",
       "      <th>variation</th>\n",
       "      <th>date</th>\n",
       "    </tr>\n",
       "  </thead>\n",
       "  <tbody>\n",
       "    <tr>\n",
       "      <th>0</th>\n",
       "      <td>3934.38</td>\n",
       "      <td>4042.00</td>\n",
       "      <td>4051.75</td>\n",
       "      <td>3918.40</td>\n",
       "      <td>-3.37%</td>\n",
       "      <td>2022-12-04</td>\n",
       "    </tr>\n",
       "    <tr>\n",
       "      <th>1</th>\n",
       "      <td>4071.70</td>\n",
       "      <td>3994.60</td>\n",
       "      <td>4099.40</td>\n",
       "      <td>3937.50</td>\n",
       "      <td>+1.13%</td>\n",
       "      <td>2022-11-27</td>\n",
       "    </tr>\n",
       "    <tr>\n",
       "      <th>2</th>\n",
       "      <td>4026.12</td>\n",
       "      <td>3953.69</td>\n",
       "      <td>4034.00</td>\n",
       "      <td>3932.55</td>\n",
       "      <td>+1.53%</td>\n",
       "      <td>2022-11-20</td>\n",
       "    </tr>\n",
       "    <tr>\n",
       "      <th>3</th>\n",
       "      <td>3965.34</td>\n",
       "      <td>3973.63</td>\n",
       "      <td>4029.99</td>\n",
       "      <td>3906.26</td>\n",
       "      <td>-0.69%</td>\n",
       "      <td>2022-11-13</td>\n",
       "    </tr>\n",
       "    <tr>\n",
       "      <th>4</th>\n",
       "      <td>3992.93</td>\n",
       "      <td>3786.60</td>\n",
       "      <td>4001.60</td>\n",
       "      <td>3743.85</td>\n",
       "      <td>+5.90%</td>\n",
       "      <td>2022-11-06</td>\n",
       "    </tr>\n",
       "  </tbody>\n",
       "</table>\n",
       "</div>"
      ],
      "text/plain": [
       "   dernier_SP500  ouverture   higher    lower variation       date\n",
       "0        3934.38    4042.00  4051.75  3918.40    -3.37% 2022-12-04\n",
       "1        4071.70    3994.60  4099.40  3937.50    +1.13% 2022-11-27\n",
       "2        4026.12    3953.69  4034.00  3932.55    +1.53% 2022-11-20\n",
       "3        3965.34    3973.63  4029.99  3906.26    -0.69% 2022-11-13\n",
       "4        3992.93    3786.60  4001.60  3743.85    +5.90% 2022-11-06"
      ]
     },
     "execution_count": 7,
     "metadata": {},
     "output_type": "execute_result"
    }
   ],
   "source": [
    "data_sp500 = clear_df(data_SP500,'SP500')\n",
    "data_sp500.to_csv(\"Data/data_sp500.csv\",index=False)\n",
    "data_sp500.head()"
   ]
  }
 ],
 "metadata": {
  "kernelspec": {
   "display_name": "Python 3.10.0 64-bit",
   "language": "python",
   "name": "python3"
  },
  "language_info": {
   "codemirror_mode": {
    "name": "ipython",
    "version": 3
   },
   "file_extension": ".py",
   "mimetype": "text/x-python",
   "name": "python",
   "nbconvert_exporter": "python",
   "pygments_lexer": "ipython3",
   "version": "3.10.0"
  },
  "orig_nbformat": 4,
  "vscode": {
   "interpreter": {
    "hash": "809c05bf197248844069ca010303a407c57ade7aa07b41750c0b87641ddc144b"
   }
  }
 },
 "nbformat": 4,
 "nbformat_minor": 2
}
